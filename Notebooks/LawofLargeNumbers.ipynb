{
 "cells": [
  {
   "cell_type": "code",
   "execution_count": 5,
   "metadata": {},
   "outputs": [
    {
     "name": "stdout",
     "output_type": "stream",
     "text": [
      "Count of exp: 2 --- Heads probability: 50.00\n",
      "Count of exp: 4 --- Heads probability: 0.00\n",
      "Count of exp: 8 --- Heads probability: 62.50\n",
      "Count of exp: 16 --- Heads probability: 43.75\n",
      "Count of exp: 32 --- Heads probability: 46.88\n",
      "Count of exp: 64 --- Heads probability: 56.25\n",
      "Count of exp: 128 --- Heads probability: 50.78\n",
      "Count of exp: 256 --- Heads probability: 52.73\n",
      "Count of exp: 512 --- Heads probability: 52.93\n",
      "Count of exp: 1024 --- Heads probability: 50.20\n",
      "Count of exp: 2048 --- Heads probability: 48.58\n",
      "Count of exp: 4096 --- Heads probability: 49.49\n",
      "Count of exp: 8192 --- Heads probability: 49.58\n",
      "Count of exp: 16384 --- Heads probability: 49.96\n",
      "Count of exp: 32768 --- Heads probability: 50.00\n",
      "Count of exp: 65536 --- Heads probability: 49.68\n",
      "Count of exp: 131072 --- Heads probability: 49.97\n",
      "Count of exp: 262144 --- Heads probability: 50.13\n",
      "Count of exp: 524288 --- Heads probability: 50.01\n",
      "Count of exp: 1048576 --- Heads probability: 50.09\n"
     ]
    }
   ],
   "source": [
    "import numpy as np\n",
    "rng = np.random.RandomState(123)\n",
    "for i in np.arange(1,21):\n",
    "    exp_number = 2**i\n",
    "    heads_tails = rng.randint(0, 2, size=exp_number)\n",
    "    heads_probabliys = np.mean(heads_tails)\n",
    "    print(\"Count of exp:\",exp_number,\"---\" ,\"Heads probability: %.2f\"%(heads_probabliys*100))"
   ]
  },
  {
   "cell_type": "markdown",
   "metadata": {},
   "source": [
    "**The probability theorem that describes the long-term stability of random variables is the law of large numbers.**"
   ]
  },
  {
   "cell_type": "code",
   "execution_count": null,
   "metadata": {},
   "outputs": [],
   "source": []
  }
 ],
 "metadata": {
  "kernelspec": {
   "display_name": "base",
   "language": "python",
   "name": "python3"
  },
  "language_info": {
   "codemirror_mode": {
    "name": "ipython",
    "version": 3
   },
   "file_extension": ".py",
   "mimetype": "text/x-python",
   "name": "python",
   "nbconvert_exporter": "python",
   "pygments_lexer": "ipython3",
   "version": "3.11.5"
  }
 },
 "nbformat": 4,
 "nbformat_minor": 2
}
