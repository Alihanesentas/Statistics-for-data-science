{
 "cells": [
  {
   "cell_type": "markdown",
   "metadata": {},
   "source": [
    "Sample Theory"
   ]
  },
  {
   "cell_type": "code",
   "execution_count": 1,
   "metadata": {},
   "outputs": [],
   "source": [
    "import numpy as np"
   ]
  },
  {
   "cell_type": "code",
   "execution_count": 3,
   "metadata": {},
   "outputs": [
    {
     "data": {
      "text/plain": [
       "array([41, 10, 53, ..., 46,  8, 67])"
      ]
     },
     "execution_count": 3,
     "metadata": {},
     "output_type": "execute_result"
    }
   ],
   "source": [
    "population= np.random.randint(0, 80, 10000)\n",
    "population"
   ]
  },
  {
   "cell_type": "code",
   "execution_count": 4,
   "metadata": {},
   "outputs": [
    {
     "data": {
      "text/plain": [
       "array([41, 10, 53, 37, 63, 56, 32,  4, 47, 46])"
      ]
     },
     "execution_count": 4,
     "metadata": {},
     "output_type": "execute_result"
    }
   ],
   "source": [
    "population[0:10] # Sample of 10"
   ]
  },
  {
   "cell_type": "code",
   "execution_count": 6,
   "metadata": {},
   "outputs": [
    {
     "data": {
      "text/plain": [
       "array([16, 34, 34, 41, 52, 66, 55,  3, 71, 19, 42, 32, 14, 49, 32, 19, 58,\n",
       "       35,  9, 75, 43, 38, 70,  0,  7, 41, 60, 18, 63, 70, 10, 54, 56, 74,\n",
       "       37, 18, 30, 36, 33, 66, 19, 79,  1, 10,  7, 71, 26, 51, 21, 69, 43,\n",
       "       72, 66, 73, 48, 68, 47, 37,  0, 29,  3, 78, 62, 12, 34, 42, 54, 79,\n",
       "        0, 64, 61, 24, 14, 59, 14,  0, 70, 22, 36,  7, 30, 67, 13, 66, 66,\n",
       "       62,  4,  8,  2, 37, 14, 43, 30, 38, 25, 53, 11, 75, 33, 75])"
      ]
     },
     "execution_count": 6,
     "metadata": {},
     "output_type": "execute_result"
    }
   ],
   "source": [
    "np.random.seed(10) # SAMPLİNG\n",
    "Sample = np.random.choice(a= population, size=100)\n",
    "Sample\n",
    "\n"
   ]
  },
  {
   "cell_type": "code",
   "execution_count": 8,
   "metadata": {},
   "outputs": [
    {
     "data": {
      "text/plain": [
       "39.04"
      ]
     },
     "execution_count": 8,
     "metadata": {},
     "output_type": "execute_result"
    }
   ],
   "source": [
    "Sample.mean() # Sample Mean"
   ]
  },
  {
   "cell_type": "code",
   "execution_count": 9,
   "metadata": {},
   "outputs": [
    {
     "data": {
      "text/plain": [
       "39.6947"
      ]
     },
     "execution_count": 9,
     "metadata": {},
     "output_type": "execute_result"
    }
   ],
   "source": [
    "population.mean() # Population Mean"
   ]
  },
  {
   "cell_type": "code",
   "execution_count": 10,
   "metadata": {},
   "outputs": [],
   "source": [
    "# Compare to population mean and sample mean"
   ]
  },
  {
   "cell_type": "code",
   "execution_count": 13,
   "metadata": {},
   "outputs": [
    {
     "data": {
      "text/plain": [
       "39.21857142857143"
      ]
     },
     "execution_count": 13,
     "metadata": {},
     "output_type": "execute_result"
    }
   ],
   "source": [
    "#Distrubation to Sample\n",
    "Sample = np.random.choice(a= population, size=100)\n",
    "Sample2 = np.random.choice(a= population, size=100)\n",
    "Sample3 = np.random.choice(a= population, size=100)\n",
    "Sample4 = np.random.choice(a= population, size=100)\n",
    "Sample5 = np.random.choice(a= population, size=100)\n",
    "Sample6 = np.random.choice(a= population, size=100)\n",
    "Sample7 = np.random.choice(a= population, size=100)\n",
    "Mean = (Sample.mean()+Sample2.mean()+Sample3.mean()+Sample4.mean()+Sample5.mean()+Sample6.mean()+Sample7.mean()) / 7\n",
    "Mean\n"
   ]
  },
  {
   "cell_type": "code",
   "execution_count": null,
   "metadata": {},
   "outputs": [],
   "source": []
  }
 ],
 "metadata": {
  "kernelspec": {
   "display_name": "base",
   "language": "python",
   "name": "python3"
  },
  "language_info": {
   "codemirror_mode": {
    "name": "ipython",
    "version": 3
   },
   "file_extension": ".py",
   "mimetype": "text/x-python",
   "name": "python",
   "nbconvert_exporter": "python",
   "pygments_lexer": "ipython3",
   "version": "3.11.5"
  }
 },
 "nbformat": 4,
 "nbformat_minor": 2
}
